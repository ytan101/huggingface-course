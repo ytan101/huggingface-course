{
 "cells": [
  {
   "attachments": {},
   "cell_type": "markdown",
   "metadata": {},
   "source": [
    "### Tokenizers\n",
    "Tokenizers aim to find the most meaningful numerical expression to raw text\n",
    "Common tokenizers: word-based, character-based, subword-based"
   ]
  },
  {
   "attachments": {},
   "cell_type": "markdown",
   "metadata": {},
   "source": [
    "### Word Based\n",
    "\n",
    "Words that don't have close meanings are sometimes indexed closely together and the vocab size can be very large.<br>\n",
    "Out of vocab words can result in a loss of information as they are represented the same way <br>\n",
    "Hence we want to reduce the number of out of vocab words"
   ]
  },
  {
   "cell_type": "code",
   "execution_count": 2,
   "metadata": {},
   "outputs": [
    {
     "name": "stdout",
     "output_type": "stream",
     "text": [
      "['Jim', 'Henson', 'was', 'a', 'puppeteer']\n"
     ]
    }
   ],
   "source": [
    "tokenized_text = \"Jim Henson was a puppeteer\".split()\n",
    "print(tokenized_text)"
   ]
  },
  {
   "attachments": {},
   "cell_type": "markdown",
   "metadata": {},
   "source": [
    "### Character Based\n",
    "\n",
    "Character based tokenization solves the issue of unknown words as all words are made up of the same letters <br>\n",
    "However, the array size gets very large since each character is a token itself, and each individual token may be less meaningful <br>\n",
    "This tokenization may be good for ideographic languages (eg Chinese)"
   ]
  },
  {
   "attachments": {},
   "cell_type": "markdown",
   "metadata": {},
   "source": [
    "### Subword Tokenization\n",
    "- Frequently used words should not be split into smaller subwords\n",
    "- Rare words should be decomposed into meaninful subwords\n",
    "\n",
    "dogs become \"dog\" + \"s\" <br>\n",
    "tokenization becomes \"token\" + \"ization\" <br>\n",
    "\n",
    "Kinds of tokenization: WordPiece, Unigram, Byte-Pair Encoding\n"
   ]
  },
  {
   "attachments": {},
   "cell_type": "markdown",
   "metadata": {},
   "source": [
    "### Loading and saving tokenizers"
   ]
  },
  {
   "cell_type": "code",
   "execution_count": 4,
   "metadata": {},
   "outputs": [
    {
     "data": {
      "application/vnd.jupyter.widget-view+json": {
       "model_id": "7cb7a8ac8231469288452ef3e250ac0f",
       "version_major": 2,
       "version_minor": 0
      },
      "text/plain": [
       "Downloading:   0%|          | 0.00/436k [00:00<?, ?B/s]"
      ]
     },
     "metadata": {},
     "output_type": "display_data"
    }
   ],
   "source": [
    "# Uses from_pretrained() and save_pretrained() as with models\n",
    "from transformers import BertTokenizer\n",
    "tokenizer = BertTokenizer.from_pretrained(\"bert-base-cased\")\n",
    "\n",
    "# We can also use AutoTokenizer\n",
    "from transformers import AutoTokenizer\n",
    "tokenizer = AutoTokenizer.from_pretrained(\"bert-base-cased\")"
   ]
  },
  {
   "cell_type": "code",
   "execution_count": 7,
   "metadata": {},
   "outputs": [
    {
     "data": {
      "text/plain": [
       "{'input_ids': [101, 2421, 112, 188, 2222, 1106, 22559, 3708, 102], 'token_type_ids': [0, 0, 0, 0, 0, 0, 0, 0, 0], 'attention_mask': [1, 1, 1, 1, 1, 1, 1, 1, 1]}"
      ]
     },
     "execution_count": 7,
     "metadata": {},
     "output_type": "execute_result"
    }
   ],
   "source": [
    "tokenizer(\"Let's try to tokenize\")"
   ]
  },
  {
   "cell_type": "code",
   "execution_count": 11,
   "metadata": {},
   "outputs": [
    {
     "data": {
      "text/plain": [
       "('my-bert-tokenizer/tokenizer_config.json',\n",
       " 'my-bert-tokenizer/special_tokens_map.json',\n",
       " 'my-bert-tokenizer/vocab.txt',\n",
       " 'my-bert-tokenizer/added_tokens.json',\n",
       " 'my-bert-tokenizer/tokenizer.json')"
      ]
     },
     "execution_count": 11,
     "metadata": {},
     "output_type": "execute_result"
    }
   ],
   "source": [
    "## Saving tokenizer\n",
    "tokenizer.save_pretrained(\"my-bert-tokenizer\")"
   ]
  },
  {
   "cell_type": "code",
   "execution_count": 6,
   "metadata": {},
   "outputs": [
    {
     "name": "stdout",
     "output_type": "stream",
     "text": [
      "['Let', \"'\", 's', 'try', 'to', 'token', '##ize', '!']\n"
     ]
    }
   ],
   "source": [
    "# We can look at the tokens using the tokenize function\n",
    "tokenizer = AutoTokenizer.from_pretrained(\"bert-base-uncased\")\n",
    "tokens = tokenizer.tokenize(\"Let's try to tokenize!\")\n",
    "print(tokens)"
   ]
  },
  {
   "cell_type": "code",
   "execution_count": 8,
   "metadata": {},
   "outputs": [
    {
     "name": "stdout",
     "output_type": "stream",
     "text": [
      "[2421, 112, 188, 2222, 1106, 22559, 3708, 106]\n"
     ]
    }
   ],
   "source": [
    "# Looking at the tokens as ids\n",
    "input_ids = tokenizer.convert_tokens_to_ids(tokens)\n",
    "print(input_ids)"
   ]
  },
  {
   "attachments": {},
   "cell_type": "markdown",
   "metadata": {},
   "source": [
    "Comparing `print(input_ids)` and `tokenizer(\"Let's try to tokenize\")`, we notice an extra id in the beginning and end of the latter statement <br>\n",
    "This is because the `tokenizer` function inserts a CLS and SEP. We can use `prepare_for_model` to insert the same token_ids <br>\n",
    "Depending on the tokenizer, different input_ids might be used (eg. RoBERTa uses \\<s\\> and \\</s\\> instead)"
   ]
  },
  {
   "cell_type": "code",
   "execution_count": 9,
   "metadata": {},
   "outputs": [
    {
     "name": "stderr",
     "output_type": "stream",
     "text": [
      "You're using a BertTokenizerFast tokenizer. Please note that with a fast tokenizer, using the `__call__` method is faster than using a method to encode the text followed by a call to the `pad` method to get a padded encoding.\n"
     ]
    },
    {
     "name": "stdout",
     "output_type": "stream",
     "text": [
      "[101, 2421, 112, 188, 2222, 1106, 22559, 3708, 106, 102]\n"
     ]
    }
   ],
   "source": [
    "# Adding CLS and SEP to input_ids\n",
    "final_inputs = tokenizer.prepare_for_model(input_ids)\n",
    "print(final_inputs[\"input_ids\"])"
   ]
  },
  {
   "cell_type": "code",
   "execution_count": 10,
   "metadata": {},
   "outputs": [
    {
     "name": "stdout",
     "output_type": "stream",
     "text": [
      "[CLS] Let's try to tokenize! [SEP]\n"
     ]
    }
   ],
   "source": [
    "# Then, to take a look at the final sentence in their tokens\n",
    "print(tokenizer.decode(final_inputs[\"input_ids\"]))"
   ]
  }
 ],
 "metadata": {
  "kernelspec": {
   "display_name": "huggingface",
   "language": "python",
   "name": "python3"
  },
  "language_info": {
   "codemirror_mode": {
    "name": "ipython",
    "version": 3
   },
   "file_extension": ".py",
   "mimetype": "text/x-python",
   "name": "python",
   "nbconvert_exporter": "python",
   "pygments_lexer": "ipython3",
   "version": "3.10.8"
  },
  "orig_nbformat": 4,
  "vscode": {
   "interpreter": {
    "hash": "943c9cdb8fdac91d2e7cf1f57f480bf6eb148bff6eac0f2d618fd745b4047cc3"
   }
  }
 },
 "nbformat": 4,
 "nbformat_minor": 2
}
